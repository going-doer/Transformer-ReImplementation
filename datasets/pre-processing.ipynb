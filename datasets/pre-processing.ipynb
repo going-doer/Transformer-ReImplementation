{
 "cells": [
  {
   "cell_type": "code",
   "execution_count": 1,
   "metadata": {},
   "outputs": [],
   "source": [
    "import os\n"
   ]
  },
  {
   "attachments": {},
   "cell_type": "markdown",
   "metadata": {},
   "source": [
    "## 데이터셋 한 개로 합치기"
   ]
  },
  {
   "attachments": {},
   "cell_type": "markdown",
   "metadata": {},
   "source": [
    "### train "
   ]
  },
  {
   "cell_type": "code",
   "execution_count": 8,
   "metadata": {},
   "outputs": [],
   "source": [
    "read_files = [r\"./train/commoncrawl/commoncrawl.de-en.en\", r\"./train/europarl-v7/europarl-v7.de-en.en\", r\"./train/news-commentary-v9/news-commentary-v9.de-en.en\"]\n",
    "with open (\"./train/train.en\", 'w', encoding='utf-8') as f:\n",
    "    for file in read_files:\n",
    "        with open(file, \"r\", encoding='utf-8') as rf:\n",
    "            for line in rf:\n",
    "                f.write(line)"
   ]
  },
  {
   "cell_type": "code",
   "execution_count": 9,
   "metadata": {},
   "outputs": [],
   "source": [
    "read_files = [r\"./train/commoncrawl/commoncrawl.de-en.de\", r\"./train/europarl-v7/europarl-v7.de-en.de\", r\"./train/news-commentary-v9/news-commentary-v9.de-en.de\"]\n",
    "with open (\"./train/train.de\", 'w', encoding='utf-8') as f:\n",
    "    for file in read_files:\n",
    "        with open(file, \"r\", encoding='utf-8') as rf:\n",
    "            for line in rf:\n",
    "                f.write(line)"
   ]
  },
  {
   "attachments": {},
   "cell_type": "markdown",
   "metadata": {},
   "source": [
    "### dev"
   ]
  },
  {
   "cell_type": "code",
   "execution_count": 10,
   "metadata": {},
   "outputs": [],
   "source": [
    "read_files = [r\"./dev/news-test2008.en\", r\"./dev/newssyscomb2009.en\", r\"./dev/newstest2009.en\", r\"./dev/newstest2010.en\", r\"./dev/newstest2011.en\", r\"./dev/newstest2012.en\", r\"./dev/newstest2013.en\"]\n",
    "with open (\"./dev/dev.en\", 'w', encoding='utf-8') as f:\n",
    "    for file in read_files:\n",
    "        with open(file, \"r\", encoding='utf-8') as rf:\n",
    "            for line in rf:\n",
    "                f.write(line)"
   ]
  },
  {
   "cell_type": "code",
   "execution_count": 11,
   "metadata": {},
   "outputs": [],
   "source": [
    "read_files = [r\"./dev/news-test2008.de\", r\"./dev/newssyscomb2009.de\", r\"./dev/newstest2009.de\", r\"./dev/newstest2010.de\", r\"./dev/newstest2011.de\", r\"./dev/newstest2012.de\", r\"./dev/newstest2013.de\"]\n",
    "with open (\"./dev/dev.de\", 'w', encoding='utf-8') as f:\n",
    "    for file in read_files:\n",
    "        with open(file, \"r\", encoding='utf-8') as rf:\n",
    "            for line in rf:\n",
    "                f.write(line)"
   ]
  },
  {
   "cell_type": "code",
   "execution_count": null,
   "metadata": {},
   "outputs": [],
   "source": []
  }
 ],
 "metadata": {
  "kernelspec": {
   "display_name": "transformer",
   "language": "python",
   "name": "python3"
  },
  "language_info": {
   "codemirror_mode": {
    "name": "ipython",
    "version": 3
   },
   "file_extension": ".py",
   "mimetype": "text/x-python",
   "name": "python",
   "nbconvert_exporter": "python",
   "pygments_lexer": "ipython3",
   "version": "3.9.15"
  },
  "orig_nbformat": 4,
  "vscode": {
   "interpreter": {
    "hash": "43eeb316829d6462c96177d2a79e50c6b43ba9dd7568948bcaa85c1bee3ed915"
   }
  }
 },
 "nbformat": 4,
 "nbformat_minor": 2
}
